{
 "cells": [
  {
   "cell_type": "markdown",
   "metadata": {},
   "source": [
    "# BEFORE YOU BEGIN\n",
    "\n",
    "Run `Cell -> Run All` from the notebook menu bar. This will load needed extensions and set up the database that the document will use.\n",
    "\n",
    "_Your queries will not work if you do not do this!_\n",
    "\n",
    "Note that `Run All` will probably jump you to the end of the document and you will have to scroll back here when it completes."
   ]
  },
  {
   "cell_type": "markdown",
   "metadata": {},
   "source": [
    "# Overview\n",
    "\n",
    "This notebook is intended to provide a _non-comprehensive_ introduction to SQL and relational database concepts. \n",
    "\n",
    "Specifically, it was created to show a person with some technical background but no familiarity with SQL everything needed to construct queries to address use cases like:\n",
    "\n",
    "- _Given a table of event logs associated with users, I need to see events triggered by a specific set of users_\n",
    "- _Given a table of event logs associated with users, I need the set of users assocaited with a specific event recorded during a given period of time_\n",
    "\n",
    "To address these use cases, the document will cover:\n",
    "\n",
    "1. Basic relational database structure\n",
    "1. `SELECT`ing columns from a table\n",
    "1. `ORDER`ing and `LIMIT`ing column data\n",
    "1. `GROUP`ing and aggregating column data\n",
    "1. Filtering results to show only columns `WHERE` the value matches one or more criteria, including being `IN` a given list\n",
    "1. `JOIN`ing tables together\n",
    "\n",
    "\n",
    "_words formatted like `THIS` are SQL statements you'll see later_\n",
    "\n",
    "## Using this document\n",
    "\n",
    "This document is a Jupyter Notebook, which means it is an interactive mix of markdown (like this cell), Python, and SQL. \n",
    "\n",
    "The great thing about notebooks like this is that you can make changes and mess around with it. You can click any cell to make changes to it, then run `Ctrl+Enter` to execute it and see the output. \n",
    "\n",
    "**Pro-tip:** want to experiment with a query without losing the original? You can `Edit->Copy`/`Edit->Paste` any cell to duplicate it!\n",
    "\n",
    "The notebook uses an in-memory database created just for it, so experiment away! If you want to start over, just re-run the big setup cell in the next section."
   ]
  },
  {
   "cell_type": "markdown",
   "metadata": {},
   "source": [
    "---\n",
    "\n",
    "# I. Creating and populating tables (optional)\n",
    "\n",
    "_**Don't panic!** This section is long, but skipable!_\n",
    "\n",
    "The cells in this section set up the database and populate it with users and events. Knowing how to do that isn't needed to address the use cases listed above, so you can either skip to the next section or read on for some bonus knowledge!\n",
    "\n",
    "Before we can query any data, we need... data to query! \n",
    "\n",
    "We're going to use a simple database with two tables, one for users and one for events. Each event will be associated with a user and a date/time. Why two tables? More on that later... \n",
    "\n",
    "_Note: the cells below contain a mix of Python and SQL code. The lines that begin with `%` or `%%` are instructions specific to notebooks, not normally found in either language. The `%%capture` you'll see at the top of some cells just instructs the notebook to not show output for that cell._"
   ]
  },
  {
   "cell_type": "code",
   "execution_count": 2,
   "metadata": {
    "scrolled": true
   },
   "outputs": [],
   "source": [
    "%%capture \n",
    "# The %%capture above just tells the notebook to not print output for \n",
    "# this cell, since it's just a bunch of generic \"operation complete\"\n",
    "# messages.\n",
    "\n",
    "\n",
    "# These load some extra functionality we'll need, like \n",
    "# an extension that causes lines prefixed with %sql\n",
    "# (or entire cells when they begin with %%sql) to be\n",
    "# sent to the database instead of Python\n",
    "%load_ext sql\n",
    "%sql sqlite://\n",
    "from random import choice, randint\n",
    "\n",
    "# Note that the code in this cell is Python, not SQL. \n",
    "# The code in the next cell will be interpreted as\n",
    "# SQL (as denoted by the %%sql at the top)\n",
    "\n",
    "# \"drop\" means \"remove\" in SQL. In this case, we're removing\n",
    "# the tables if they already exist. This is so you can easily\n",
    "# re-create your tables by re-running this cell, in case you\n",
    "# want to experiment with adding columns, for example. Be sure\n",
    "# to run the next cell too, so your tables have data in them!\n",
    "#\n",
    "# Hopefully this is obvious, but...\n",
    "#\n",
    "#  *** BE VERY CAREFUL WITH DROP STATEMENTS IN REAL LIFE ***\n",
    "#\n",
    "\n",
    "%sql DROP TABLE IF EXISTS users;\n",
    "%sql DROP TABLE IF EXISTS events;\n",
    "\n",
    "\n",
    "# Now we can (re-)create our tables. \n",
    "# The lines inside the parentheses are column definitions.\n",
    "# These consist of the column name followed by one or more \n",
    "# properties for it. The only required property is the \"type\"\n",
    "# of data the column will store, i.e. integer, text, etc. \n",
    "#\n",
    "# The specific data types supported will vary depending on which\n",
    "# vendor's SQL database you are using. This notebook uses SQLite,\n",
    "# and you can learn more about how it uses data types here:\n",
    "# https://sqlite.org/datatype3.html\n",
    "#\n",
    "# Note that the first column in each table is a number with the\n",
    "# \"PRIMARY KEY\" property. You'll learn more about this, and the \n",
    "# FOREIGN KEY in the events table, soon.\n",
    "#\n",
    "# Quick syntax note: the `\\` at the end of each line just tells\n",
    "# the notebook to keep treating the text as SQL instead of going\n",
    "# back to Python.\n",
    "\n",
    "%sql CREATE TABLE users (                 \\\n",
    "    id INTEGER PRIMARY KEY,               \\\n",
    "    name TEXT                             \\\n",
    ");\n",
    "\n",
    "%sql CREATE TABLE events (                \\\n",
    "    id INTEGER PRIMARY KEY,               \\\n",
    "    event_type TEXT,                      \\\n",
    "    timestamp TEXT,                       \\\n",
    "    user INTEGER,                         \\\n",
    "    FOREIGN KEY(user) REFERENCES user(id) \\\n",
    ");\n",
    "\n",
    "\n",
    "# Now we'll use Python to quickly make up some data to put\n",
    "# in our new tables!\n",
    "\n",
    "# First we'll make up some names of users and events to log, \n",
    "# and a set of dates to distribute the logs across.\n",
    "#\n",
    "# Feel free to change these to suit your taste! Just make sure\n",
    "# you have significantly more users than events, so that some\n",
    "# events are logged multiple times with different users!\n",
    "USER_NAMES = [\n",
    "    'sally',\n",
    "    'bob',\n",
    "    'jane',\n",
    "    'norma',\n",
    "    'mercutio',\n",
    "    'andre',\n",
    "    'shayna',\n",
    "    'asuka',\n",
    "    'bianca',\n",
    "]\n",
    "\n",
    "EVENT_NAMES = [\n",
    "    \"defragged the widget\",\n",
    "    \"gleamed the cube\",\n",
    "    \"hooped the frood\",\n",
    "    \"walked the line\",\n",
    "]\n",
    "\n",
    "EVENT_DATES = [\n",
    "    '2020-01-01 00:00:00',\n",
    "    '2020-01-02 00:00:00',\n",
    "    '2020-01-03 00:00:00',\n",
    "    '2020-01-04 00:00:00',\n",
    "]\n",
    "\n",
    "# To ensure that all users are represented in the\n",
    "# events log, we'll create this many events for each.\n",
    "EVENTS_PER_USER = 2\n",
    "\n",
    "# Now we're ready to start populating our tables!  \n",
    "\n",
    "# This will create a row in the users table for each user name\n",
    "for name in USER_NAMES:\n",
    "    # Adding a row to a table is done with an INSERT instruction. \n",
    "    # Note that the values in the VALUES list correspond to the \n",
    "    # columns specified in our CREATE statement. \n",
    "    # The first value, corresponding to the id/primary key column,\n",
    "    # is `null` because this causes the database to assign its\n",
    "    # value automatically.\n",
    "    %sql INSERT INTO users VALUES(null, :name);\n",
    "\n",
    "# Finally, we'll randomly create some events\n",
    "for user_index in range(len(USER_NAMES)):\n",
    "    # In the USER_NAMES list, Python has assigned each\n",
    "    # name a sequential index number starting at 0.\n",
    "    # The database does the same thing with user ID\n",
    "    # (primary key) values, but starting at 1 instead.\n",
    "    # In other words, we can get a user's ID in the \n",
    "    # database by adding 1 to its index value. \n",
    "    user_id = user_index + 1\n",
    "    \n",
    "    # This block of code will be repeated \n",
    "    # EVENTS_PER_USER times.\n",
    "    for i in range(EVENTS_PER_USER):\n",
    "        # choice(...) picks a random item from the given list\n",
    "        event_name = choice(EVENT_NAMES)\n",
    "        event_date = choice(EVENT_DATES)\n",
    "        %sql INSERT INTO events VALUES(null, :event_name, date(:event_date), :user_id);"
   ]
  },
  {
   "cell_type": "markdown",
   "metadata": {},
   "source": [
    "# II. Database normalization: why do we event have two tables?\n",
    "\n",
    "Before we go any further, let's talk about the basics of relational database design. \n",
    "\n",
    "The code in the previous cell created two tables, a `users` table that looks like this:\n",
    "\n",
    "<table>\n",
    "    <tr><th>id</th><th>name</th></tr>\n",
    "    <tr><td>1</td><td>sally</td></tr>\n",
    "    <tr><td>2</td><td>bob</td></tr>\n",
    "    <tr><td>3</td><td>jane</td></tr>\n",
    "    <tr><td colspan=2>...</td></tr>\n",
    "</table>\n",
    "\n",
    "...and an `events` table that looks (something) like this:\n",
    "\n",
    "<table>\n",
    "    <tr><th>id</th><th>event_type</th><th>timestamp</th><th>user</th></tr>\n",
    "    <tr><td>1</td><td>hooped the frood</td><td>2020-01-04 00:00:00</td><td>2</td></tr>\n",
    "    <tr><td>2</td><td>walked the line</td><td>2020-01-02 00:00:00</td><td>3</td></tr>\n",
    "    <tr><td>3</td><td>gleamed the cube</td><td>2020-01-03 00:00:00</td><td>1</td></tr>\n",
    "    <tr><td>4</td><td>hooped the frood</td><td>2020-01-01 00:00:00</td><td>3</td></tr>\n",
    "    <tr><td colspan=4>...</td></tr>\n",
    "</table>\n",
    "\n",
    "## Primary keys\n",
    "\n",
    "Note that each user and event has an `id` that uniquely identifies it. These unique identifiers are called _primary keys_. The primary key doesn't have to be called `id`, but it usually is.\n",
    "\n",
    "## Foreign keys\n",
    "\n",
    "The `event` table also has a column called `user`. The values in this column are primary key values from the `users` table. So the first event is associated with the user with primary key `2`, aka bob, the second event is associated with user ID 3 aka jane, and so on.\n",
    "  \n",
    "A value that references the primary key from another table like this is called a _foreign key_.\n",
    "  \n",
    "The foreign key _relates_ the `events` table to the `users` table.\n",
    "\n",
    "## Ok... but why?\n",
    "\n",
    "So why not just have it all the information in our `events` table, like this?\n",
    "\n",
    "<table>\n",
    "    <tr><th>id</th><th>event_type</th><th>timestamp</th><th>user</th></tr>\n",
    "    <tr><td>1</td><td>hooped the frood</td><td>2020-01-04 00:00:00</td><td>bob</td></tr>\n",
    "    <tr><td>2</td><td>walked the line</td><td>2020-01-02 00:00:00</td><td>jane</td></tr>\n",
    "    <tr><td>3</td><td>gleamed the cube</td><td>2020-01-03 00:00:00</td><td>sally</td></tr>\n",
    "    <tr><td>4</td><td>hooped the frood</td><td>2020-01-01 00:00:00</td><td>jane</td></tr>\n",
    "    <tr><td colspan=2>...</td></tr>\n",
    "</table>\n",
    "\n",
    "Wouldn't that be simpler?\n",
    "\n",
    "In this trivial example... you actually could make the case that it would, but normally user records are more complicated than a single name. Let's talk about how the relational approach helps manage data, espeically in real-world use cases.\n",
    "\n",
    "### Reason 1:  Specificity\n",
    "\n",
    "What if instead of just a name, we stored a first name, last name, title, phone number, etc for each user?\n",
    "\n",
    "Now suddenly our single-table layout looks like this:\n",
    "\n",
    "<table>\n",
    "    <tr><th>id</th><th>event_type</th><th>timestamp</th><th>first</th><th>last</th><th>title</th><th>phone</th></tr>\n",
    "    <tr><td>1</td><td>hooped the frood</td><td>2020-01-04 00:00:00</td><td>bob</td><td>jones</td><td>project manager</td><td>xxx-xxx-xxxx</td></tr>\n",
    "    <tr><td>2</td><td>walked the line</td><td>2020-01-02 00:00:00</td><td>jane</td><td>janeson</td><td>data analyst</td><td>xxx-xxx-xxxx</td></tr>\n",
    "    <tr><td>3</td><td>gleamed the cube</td><td>2020-01-03 00:00:00</td><td>sally</td><td>ngoma</td><td>cube gleamer</td><td>xxx-xxx-xxxx</td></tr>\n",
    "    <tr><td>4</td><td>hooped the frood</td><td>2020-01-01 00:00:00</td><td>jane</td><td>janeson</td><td>data analyst</td><td>xxx-xxx-xxxx</td></tr>\n",
    "    <tr><td colspan=4>...</td></tr>\n",
    "</table>\n",
    "\n",
    "For starters, it hardly even makes sense to call this table `events` any more, because it has more fields devoted to describing users than events. \n",
    "\n",
    "So one simple advantage of using a relational model is that it reduces the amount of data being crammed into a given table by keeping each table focused on attributes pertaining to a specific thing. \n",
    "\n",
    "That's useful, but there's something even more central to what makes the relational model practical.\n",
    "\n",
    "### Reason 2: Single source of truth \n",
    "\n",
    "What if you wanted to change Bob Jone's phone number in this table? You could do that by just updating the `phone` field in row `1`. Clumsy, but do-able.\n",
    "\n",
    "Now what if you wanted to change Jane Johnson's phone number? Note that she appears in two rows of the table. Better be sure to update them both! \n",
    "\n",
    "What if you just wanted to look up Jane's title? Which record in the `events` table is authoritative for her?\n",
    "\n",
    "The relational design we're using solves both of these problems: each table is limited to properties of a specific  class of thing (users or events), and the properties of each thing are described exactly once.\n",
    "\n",
    "## Optional further reading\n",
    "\n",
    "Designing relational databases with just the right amount of abstraction (there's such a thing as too much!) is called _normalization_ and [plenty has been written about it online](https://duckduckgo.com/?q=relational+database+normalization&t=hk&ia=web). \n",
    "\n",
    "A final thought exercise: in the example above, in additon to moving user data to its own table, we _could_ do the same for titles (\"project manager\", \"data analyst\", etc). After all, users relatedto titles similarly to the way events relate to users. But in this case it wouldn't gain us much. Can you say why? Can you imagine a scenario where it _would_ be helpful to do this? _(hint: it has to do with how many properties of a title we care about storing)_"
   ]
  },
  {
   "cell_type": "markdown",
   "metadata": {},
   "source": [
    "---\n",
    "\n",
    "# III. `SELECT`ing rows from a table\n",
    "\n",
    "Enough theory, let's see what we've done!\n",
    "\n",
    "In SQL, `SELECT` means \"show me\", so\n",
    "\n",
    "```sql\n",
    "SELECT * FROM events;\n",
    "```\n",
    "\n",
    "means \"show me all columns (`*`) from `events`.\n",
    "\n",
    "You can also request specific columns, like this:\n",
    "\n",
    "```sql\n",
    "SELECT event_type, timestamp FROM events;\n",
    "```\n",
    "\n",
    "Let's see that first query in action:"
   ]
  },
  {
   "cell_type": "code",
   "execution_count": 21,
   "metadata": {},
   "outputs": [
    {
     "name": "stdout",
     "output_type": "stream",
     "text": [
      " * sqlite://\n",
      "Done.\n"
     ]
    },
    {
     "data": {
      "text/html": [
       "<table>\n",
       "    <tr>\n",
       "        <th>id</th>\n",
       "        <th>event_type</th>\n",
       "        <th>timestamp</th>\n",
       "        <th>user</th>\n",
       "    </tr>\n",
       "    <tr>\n",
       "        <td>1</td>\n",
       "        <td>defragged the widget</td>\n",
       "        <td>2020-01-03</td>\n",
       "        <td>1</td>\n",
       "    </tr>\n",
       "    <tr>\n",
       "        <td>2</td>\n",
       "        <td>hooped the frood</td>\n",
       "        <td>2020-01-02</td>\n",
       "        <td>1</td>\n",
       "    </tr>\n",
       "    <tr>\n",
       "        <td>3</td>\n",
       "        <td>gleamed the cube</td>\n",
       "        <td>2020-01-02</td>\n",
       "        <td>2</td>\n",
       "    </tr>\n",
       "    <tr>\n",
       "        <td>4</td>\n",
       "        <td>walked the line</td>\n",
       "        <td>2020-01-04</td>\n",
       "        <td>2</td>\n",
       "    </tr>\n",
       "    <tr>\n",
       "        <td>5</td>\n",
       "        <td>walked the line</td>\n",
       "        <td>2020-01-01</td>\n",
       "        <td>3</td>\n",
       "    </tr>\n",
       "    <tr>\n",
       "        <td>6</td>\n",
       "        <td>gleamed the cube</td>\n",
       "        <td>2020-01-02</td>\n",
       "        <td>3</td>\n",
       "    </tr>\n",
       "    <tr>\n",
       "        <td>7</td>\n",
       "        <td>hooped the frood</td>\n",
       "        <td>2020-01-04</td>\n",
       "        <td>4</td>\n",
       "    </tr>\n",
       "    <tr>\n",
       "        <td>8</td>\n",
       "        <td>walked the line</td>\n",
       "        <td>2020-01-02</td>\n",
       "        <td>4</td>\n",
       "    </tr>\n",
       "    <tr>\n",
       "        <td>9</td>\n",
       "        <td>walked the line</td>\n",
       "        <td>2020-01-01</td>\n",
       "        <td>5</td>\n",
       "    </tr>\n",
       "    <tr>\n",
       "        <td>10</td>\n",
       "        <td>defragged the widget</td>\n",
       "        <td>2020-01-03</td>\n",
       "        <td>5</td>\n",
       "    </tr>\n",
       "    <tr>\n",
       "        <td>11</td>\n",
       "        <td>defragged the widget</td>\n",
       "        <td>2020-01-01</td>\n",
       "        <td>6</td>\n",
       "    </tr>\n",
       "    <tr>\n",
       "        <td>12</td>\n",
       "        <td>hooped the frood</td>\n",
       "        <td>2020-01-03</td>\n",
       "        <td>6</td>\n",
       "    </tr>\n",
       "    <tr>\n",
       "        <td>13</td>\n",
       "        <td>gleamed the cube</td>\n",
       "        <td>2020-01-03</td>\n",
       "        <td>7</td>\n",
       "    </tr>\n",
       "    <tr>\n",
       "        <td>14</td>\n",
       "        <td>defragged the widget</td>\n",
       "        <td>2020-01-03</td>\n",
       "        <td>7</td>\n",
       "    </tr>\n",
       "    <tr>\n",
       "        <td>15</td>\n",
       "        <td>gleamed the cube</td>\n",
       "        <td>2020-01-01</td>\n",
       "        <td>8</td>\n",
       "    </tr>\n",
       "    <tr>\n",
       "        <td>16</td>\n",
       "        <td>hooped the frood</td>\n",
       "        <td>2020-01-01</td>\n",
       "        <td>8</td>\n",
       "    </tr>\n",
       "    <tr>\n",
       "        <td>17</td>\n",
       "        <td>defragged the widget</td>\n",
       "        <td>2020-01-03</td>\n",
       "        <td>9</td>\n",
       "    </tr>\n",
       "    <tr>\n",
       "        <td>18</td>\n",
       "        <td>gleamed the cube</td>\n",
       "        <td>2020-01-04</td>\n",
       "        <td>9</td>\n",
       "    </tr>\n",
       "</table>"
      ],
      "text/plain": [
       "[(1, 'defragged the widget', '2020-01-03', 1),\n",
       " (2, 'hooped the frood', '2020-01-02', 1),\n",
       " (3, 'gleamed the cube', '2020-01-02', 2),\n",
       " (4, 'walked the line', '2020-01-04', 2),\n",
       " (5, 'walked the line', '2020-01-01', 3),\n",
       " (6, 'gleamed the cube', '2020-01-02', 3),\n",
       " (7, 'hooped the frood', '2020-01-04', 4),\n",
       " (8, 'walked the line', '2020-01-02', 4),\n",
       " (9, 'walked the line', '2020-01-01', 5),\n",
       " (10, 'defragged the widget', '2020-01-03', 5),\n",
       " (11, 'defragged the widget', '2020-01-01', 6),\n",
       " (12, 'hooped the frood', '2020-01-03', 6),\n",
       " (13, 'gleamed the cube', '2020-01-03', 7),\n",
       " (14, 'defragged the widget', '2020-01-03', 7),\n",
       " (15, 'gleamed the cube', '2020-01-01', 8),\n",
       " (16, 'hooped the frood', '2020-01-01', 8),\n",
       " (17, 'defragged the widget', '2020-01-03', 9),\n",
       " (18, 'gleamed the cube', '2020-01-04', 9)]"
      ]
     },
     "execution_count": 21,
     "metadata": {},
     "output_type": "execute_result"
    }
   ],
   "source": [
    "%%sql \n",
    "\n",
    "SELECT * FROM events;"
   ]
  },
  {
   "cell_type": "markdown",
   "metadata": {},
   "source": [
    "## Try it!\n",
    "\n",
    "Edit the cell below and add your `SELECT` statement that gets all columns from the `users` table, then modify it to only take the `name` column. "
   ]
  },
  {
   "cell_type": "code",
   "execution_count": null,
   "metadata": {},
   "outputs": [],
   "source": [
    "%%sql\n",
    "\n",
    "/* \"Show me all columns for every row in the users table\"   */\n",
    "/* Write your query below, then press Ctrl+Enter to run it! */\n",
    "\n"
   ]
  },
  {
   "cell_type": "markdown",
   "metadata": {},
   "source": [
    "<div class=\"answer\">SELECT * FROM users;\n",
    "SELECT name FROM users;</div>"
   ]
  },
  {
   "cell_type": "markdown",
   "metadata": {},
   "source": [
    "## Refining `SELECT` with `ORDER BY` and `LIMIT`\n",
    "\n",
    "Events in our event log appear in the order in which they were inserted, and since each event's date was randomly generated, chances are that means they are not chronological. \n",
    "\n",
    "We can fix that by adding `ORDER BY` to the query:\n",
    "\n",
    "```sql\n",
    "SELECT event_name, timestamp FROM events ORDER BY timestamp\n",
    "```\n",
    "\n",
    "Let's see that query in action:"
   ]
  },
  {
   "cell_type": "code",
   "execution_count": 5,
   "metadata": {},
   "outputs": [
    {
     "name": "stdout",
     "output_type": "stream",
     "text": [
      " * sqlite://\n",
      "Done.\n"
     ]
    },
    {
     "data": {
      "text/html": [
       "<table>\n",
       "    <tr>\n",
       "        <th>event_type</th>\n",
       "        <th>timestamp</th>\n",
       "    </tr>\n",
       "    <tr>\n",
       "        <td>walked the line</td>\n",
       "        <td>2020-01-01</td>\n",
       "    </tr>\n",
       "    <tr>\n",
       "        <td>walked the line</td>\n",
       "        <td>2020-01-01</td>\n",
       "    </tr>\n",
       "    <tr>\n",
       "        <td>defragged the widget</td>\n",
       "        <td>2020-01-01</td>\n",
       "    </tr>\n",
       "    <tr>\n",
       "        <td>gleamed the cube</td>\n",
       "        <td>2020-01-01</td>\n",
       "    </tr>\n",
       "    <tr>\n",
       "        <td>hooped the frood</td>\n",
       "        <td>2020-01-01</td>\n",
       "    </tr>\n",
       "    <tr>\n",
       "        <td>hooped the frood</td>\n",
       "        <td>2020-01-02</td>\n",
       "    </tr>\n",
       "    <tr>\n",
       "        <td>gleamed the cube</td>\n",
       "        <td>2020-01-02</td>\n",
       "    </tr>\n",
       "    <tr>\n",
       "        <td>gleamed the cube</td>\n",
       "        <td>2020-01-02</td>\n",
       "    </tr>\n",
       "    <tr>\n",
       "        <td>walked the line</td>\n",
       "        <td>2020-01-02</td>\n",
       "    </tr>\n",
       "    <tr>\n",
       "        <td>defragged the widget</td>\n",
       "        <td>2020-01-03</td>\n",
       "    </tr>\n",
       "    <tr>\n",
       "        <td>defragged the widget</td>\n",
       "        <td>2020-01-03</td>\n",
       "    </tr>\n",
       "    <tr>\n",
       "        <td>hooped the frood</td>\n",
       "        <td>2020-01-03</td>\n",
       "    </tr>\n",
       "    <tr>\n",
       "        <td>gleamed the cube</td>\n",
       "        <td>2020-01-03</td>\n",
       "    </tr>\n",
       "    <tr>\n",
       "        <td>defragged the widget</td>\n",
       "        <td>2020-01-03</td>\n",
       "    </tr>\n",
       "    <tr>\n",
       "        <td>defragged the widget</td>\n",
       "        <td>2020-01-03</td>\n",
       "    </tr>\n",
       "    <tr>\n",
       "        <td>walked the line</td>\n",
       "        <td>2020-01-04</td>\n",
       "    </tr>\n",
       "    <tr>\n",
       "        <td>hooped the frood</td>\n",
       "        <td>2020-01-04</td>\n",
       "    </tr>\n",
       "    <tr>\n",
       "        <td>gleamed the cube</td>\n",
       "        <td>2020-01-04</td>\n",
       "    </tr>\n",
       "</table>"
      ],
      "text/plain": [
       "[('walked the line', '2020-01-01'),\n",
       " ('walked the line', '2020-01-01'),\n",
       " ('defragged the widget', '2020-01-01'),\n",
       " ('gleamed the cube', '2020-01-01'),\n",
       " ('hooped the frood', '2020-01-01'),\n",
       " ('hooped the frood', '2020-01-02'),\n",
       " ('gleamed the cube', '2020-01-02'),\n",
       " ('gleamed the cube', '2020-01-02'),\n",
       " ('walked the line', '2020-01-02'),\n",
       " ('defragged the widget', '2020-01-03'),\n",
       " ('defragged the widget', '2020-01-03'),\n",
       " ('hooped the frood', '2020-01-03'),\n",
       " ('gleamed the cube', '2020-01-03'),\n",
       " ('defragged the widget', '2020-01-03'),\n",
       " ('defragged the widget', '2020-01-03'),\n",
       " ('walked the line', '2020-01-04'),\n",
       " ('hooped the frood', '2020-01-04'),\n",
       " ('gleamed the cube', '2020-01-04')]"
      ]
     },
     "execution_count": 5,
     "metadata": {},
     "output_type": "execute_result"
    }
   ],
   "source": [
    "%%sql\n",
    "\n",
    "/* \n",
    "# Syntax note: putting FROM and ORDER BY on their \n",
    "# own lines is optional, but as our queries get longer, \n",
    "# the multi-line format will make them easier to read.\n",
    "*/\n",
    "SELECT event_type, timestamp \n",
    "    FROM events \n",
    "    ORDER BY timestamp"
   ]
  },
  {
   "cell_type": "markdown",
   "metadata": {},
   "source": [
    "Note that results are in ascending order by default. You can request descending order by adding the keyword `desc`:\n",
    "\n",
    "```sql\n",
    "SELECT event_type, timestamp FROM events ORDER BY timestamp\n",
    "```\n",
    "\n",
    "This combines nicely with the `LIMIT` statement, which tells the database to limit results to a maximum number of records. \n",
    "\n",
    "So, suppose you want to see just the 5 most recent events..."
   ]
  },
  {
   "cell_type": "code",
   "execution_count": 6,
   "metadata": {},
   "outputs": [
    {
     "name": "stdout",
     "output_type": "stream",
     "text": [
      " * sqlite://\n",
      "Done.\n"
     ]
    },
    {
     "data": {
      "text/html": [
       "<table>\n",
       "    <tr>\n",
       "        <th>event_type</th>\n",
       "        <th>timestamp</th>\n",
       "    </tr>\n",
       "    <tr>\n",
       "        <td>walked the line</td>\n",
       "        <td>2020-01-04</td>\n",
       "    </tr>\n",
       "    <tr>\n",
       "        <td>hooped the frood</td>\n",
       "        <td>2020-01-04</td>\n",
       "    </tr>\n",
       "    <tr>\n",
       "        <td>gleamed the cube</td>\n",
       "        <td>2020-01-04</td>\n",
       "    </tr>\n",
       "    <tr>\n",
       "        <td>defragged the widget</td>\n",
       "        <td>2020-01-03</td>\n",
       "    </tr>\n",
       "    <tr>\n",
       "        <td>defragged the widget</td>\n",
       "        <td>2020-01-03</td>\n",
       "    </tr>\n",
       "</table>"
      ],
      "text/plain": [
       "[('walked the line', '2020-01-04'),\n",
       " ('hooped the frood', '2020-01-04'),\n",
       " ('gleamed the cube', '2020-01-04'),\n",
       " ('defragged the widget', '2020-01-03'),\n",
       " ('defragged the widget', '2020-01-03')]"
      ]
     },
     "execution_count": 6,
     "metadata": {},
     "output_type": "execute_result"
    }
   ],
   "source": [
    "%%sql\n",
    "\n",
    "SELECT event_type, timestamp \n",
    "    FROM events \n",
    "    ORDER BY timestamp desc\n",
    "    LIMIT 5"
   ]
  },
  {
   "cell_type": "markdown",
   "metadata": {},
   "source": [
    "---\n",
    "\n",
    "# IV. Limiting results with `WHERE`\n",
    "\n",
    "What if we want to see all events of a specific type?\n",
    "\n",
    "`WHERE` lets you add criteria to your `SELECT` statement using comparisons like `=`, `!=`, `<`, `>`, `<=`, etc.\n",
    "\n",
    "So to get the timestamp for each \"defragged the widget\" event, you would run\n",
    "\n",
    "```sql\n",
    "SELECT timestamp FROM events \n",
    "    WHERE event_type = 'defragged the widget';\n",
    "```\n",
    "\n",
    "You can combine `WHERE` criteria with boolean operators (`AND`, `OR`, `NOT`)\n",
    "\n",
    "```sql\n",
    "SELECT id FROM events \n",
    "    WHERE event_type = 'defragged the widget'\n",
    "          AND NOT timestamp = '2020-01-04 00:00:00';\n",
    "```\n",
    "\n",
    "## Limiting to sets of values with `IN`\n",
    "\n",
    "The query above gets the `id` of each \"defragged the widget\" event except those with a specific date. \n",
    "\n",
    "What if we wanted to exclude two dates instead of one?\n",
    "\n",
    "You could do that with more booleans:\n",
    "\n",
    "```sql\n",
    "SELECT id FROM events \n",
    "    WHERE event_type = 'defragged the widget'\n",
    "          AND NOT (timestamp = '2020-01-04 00:00:00' OR timestamp = '2020-01-03 00:00:00') ;\n",
    "```\n",
    "\n",
    "...but SQL give you a more elegant way with `IN`:\n",
    "\n",
    "```sql\n",
    "SELECT id FROM events \n",
    "    WHERE event_type = 'defragged the widget'\n",
    "          AND timestamp NOT IN ('2020-01-04 00:00:00', '2020-01-03 00:00:00') ;\n",
    "```\n",
    "\n",
    "## Try it! \n",
    "\n",
    "Combine what you've learned so far to write a query that says \"show me the timestamp of the most recent event with type 'hooped the frood' _or_ 'gleamed the cube'\"."
   ]
  },
  {
   "cell_type": "code",
   "execution_count": null,
   "metadata": {},
   "outputs": [],
   "source": [
    "%%sql\n",
    "\n",
    "/* \"Show me the timestamp of the most recent event with type 'hooped the frood' or 'gleamed the cube'\"   */\n",
    "/* Write your query below, then press Ctrl+Enter to run it! */\n"
   ]
  },
  {
   "cell_type": "markdown",
   "metadata": {},
   "source": [
    "<div class=\"answer\">SELECT timestamp FROM events\n",
    "  GROUP BY event_type\n",
    "  WHERE event_type IN ('hooped the frood', 'gleamed the cube')\n",
    "  ORDER BY timestamp desc\n",
    "  LIMIT 1\n",
    "</div>"
   ]
  },
  {
   "cell_type": "markdown",
   "metadata": {},
   "source": [
    "---\n",
    "# V. `GROUP`ing and aggregating\n",
    "\n",
    "Suppose you wanted to know _how many_ events of each type have occurred? \n",
    "\n",
    "Getting the answer to that boils down to two operations:\n",
    "1. _Group_ the events by type\n",
    "2. _Count_ the `id`s in each group\n",
    "\n",
    "As a SQL query, this would look like:\n",
    "\n",
    "```sql\n",
    "SELECT count(id) FROM events\n",
    "  GROUP BY event_type;\n",
    "```\n",
    "\n",
    "note that the counting is done by a `count()` function. It's important to note that while `GROUP` is a standard part of SQL, the specific functions available to you for aggregation can depend on the database you're using. The aggregation functions available in SQLite are listed [here](https://www.sqlite.org/lang_aggfunc.html)\n",
    "\n",
    "Grouping an aggregation open up a lot of options. See the next cell for another example to spark your imagination."
   ]
  },
  {
   "cell_type": "code",
   "execution_count": 8,
   "metadata": {},
   "outputs": [
    {
     "name": "stdout",
     "output_type": "stream",
     "text": [
      " * sqlite://\n",
      "Done.\n"
     ]
    },
    {
     "data": {
      "text/html": [
       "<table>\n",
       "    <tr>\n",
       "        <th>timestamp</th>\n",
       "        <th>group_concat(event_type)</th>\n",
       "    </tr>\n",
       "    <tr>\n",
       "        <td>2020-01-01</td>\n",
       "        <td>walked the line,walked the line,defragged the widget,gleamed the cube,hooped the frood</td>\n",
       "    </tr>\n",
       "    <tr>\n",
       "        <td>2020-01-02</td>\n",
       "        <td>hooped the frood,gleamed the cube,gleamed the cube,walked the line</td>\n",
       "    </tr>\n",
       "    <tr>\n",
       "        <td>2020-01-03</td>\n",
       "        <td>defragged the widget,defragged the widget,hooped the frood,gleamed the cube,defragged the widget,defragged the widget</td>\n",
       "    </tr>\n",
       "    <tr>\n",
       "        <td>2020-01-04</td>\n",
       "        <td>walked the line,hooped the frood,gleamed the cube</td>\n",
       "    </tr>\n",
       "</table>"
      ],
      "text/plain": [
       "[('2020-01-01', 'walked the line,walked the line,defragged the widget,gleamed the cube,hooped the frood'),\n",
       " ('2020-01-02', 'hooped the frood,gleamed the cube,gleamed the cube,walked the line'),\n",
       " ('2020-01-03', 'defragged the widget,defragged the widget,hooped the frood,gleamed the cube,defragged the widget,defragged the widget'),\n",
       " ('2020-01-04', 'walked the line,hooped the frood,gleamed the cube')]"
      ]
     },
     "execution_count": 8,
     "metadata": {},
     "output_type": "execute_result"
    }
   ],
   "source": [
    "%%sql\n",
    "\n",
    "SELECT timestamp, group_concat(event_type) \n",
    "    FROM events \n",
    "    GROUP BY timestamp;"
   ]
  },
  {
   "cell_type": "markdown",
   "metadata": {},
   "source": [
    "---\n",
    "\n",
    "# VI. Renaming columns in `SELECT` output with `as`\n",
    "\n",
    "The query in the previous cell returns a comma-separated list of event types for each day. But note the name of that second column, `group_concat(event_type)`. That's... descriptive, but maybe not as helpful as it could be. \n",
    "\n",
    "Fortunately it's easy to fix! Any column in the output of a `SELECT` statement can be given a name, like this.."
   ]
  },
  {
   "cell_type": "code",
   "execution_count": 30,
   "metadata": {},
   "outputs": [
    {
     "name": "stdout",
     "output_type": "stream",
     "text": [
      " * sqlite://\n",
      "Done.\n"
     ]
    },
    {
     "data": {
      "text/html": [
       "<table>\n",
       "    <tr>\n",
       "        <th>date</th>\n",
       "        <th>logged events</th>\n",
       "    </tr>\n",
       "    <tr>\n",
       "        <td>2020-01-01</td>\n",
       "        <td>walked the line,walked the line,defragged the widget,gleamed the cube,hooped the frood</td>\n",
       "    </tr>\n",
       "    <tr>\n",
       "        <td>2020-01-02</td>\n",
       "        <td>hooped the frood,gleamed the cube,gleamed the cube,walked the line</td>\n",
       "    </tr>\n",
       "    <tr>\n",
       "        <td>2020-01-03</td>\n",
       "        <td>defragged the widget,defragged the widget,hooped the frood,gleamed the cube,defragged the widget,defragged the widget</td>\n",
       "    </tr>\n",
       "    <tr>\n",
       "        <td>2020-01-04</td>\n",
       "        <td>walked the line,hooped the frood,gleamed the cube</td>\n",
       "    </tr>\n",
       "</table>"
      ],
      "text/plain": [
       "[('2020-01-01', 'walked the line,walked the line,defragged the widget,gleamed the cube,hooped the frood'),\n",
       " ('2020-01-02', 'hooped the frood,gleamed the cube,gleamed the cube,walked the line'),\n",
       " ('2020-01-03', 'defragged the widget,defragged the widget,hooped the frood,gleamed the cube,defragged the widget,defragged the widget'),\n",
       " ('2020-01-04', 'walked the line,hooped the frood,gleamed the cube')]"
      ]
     },
     "execution_count": 30,
     "metadata": {},
     "output_type": "execute_result"
    }
   ],
   "source": [
    "%%sql\n",
    "\n",
    "SELECT timestamp as 'date', group_concat(event_type) as 'logged events' \n",
    "    FROM events \n",
    "    GROUP BY timestamp;"
   ]
  },
  {
   "cell_type": "markdown",
   "metadata": {},
   "source": [
    "## Try it!\n",
    "\n",
    "Use the cell below to create a query that says \"Show me each event type, and the number of logs of that type in a column labeled 'instances', sorted by instance count from highest to lowest\""
   ]
  },
  {
   "cell_type": "code",
   "execution_count": null,
   "metadata": {},
   "outputs": [],
   "source": [
    "%%sql\n",
    "\n",
    "/* \"Show me each event type, and the number of logs of that type in a column labeled 'instances', sorted by instance count from highest to lowest\"   */\n",
    "/* Write your query below, then press Ctrl+Enter to run it! */\n"
   ]
  },
  {
   "cell_type": "markdown",
   "metadata": {},
   "source": [
    "<div class=\"answer\">SELECT event_type, count(id) as instances \n",
    "    FROM events\n",
    "    GROUP BY event_type\n",
    "    ORDER BY instances desc;</div>"
   ]
  },
  {
   "cell_type": "markdown",
   "metadata": {},
   "source": [
    "### Bonus challenge\n",
    "\n",
    "Try writing another query that says \"Show me each event type, and the number of _distinct_ dates on which that event was seen\". _hint: this will require a special keyword we haven't covered yet, but you'll see it mentioned early in the_ [SQLite aggregation functions doc](https://www.sqlite.org/lang_aggfunc.html)"
   ]
  },
  {
   "cell_type": "code",
   "execution_count": null,
   "metadata": {},
   "outputs": [],
   "source": [
    "%%sql\n",
    "\n",
    "/* \"Show me each event type, and the number of distinct dates on which that event was seen\"   */\n",
    "/* Write your query below, then press Ctrl+Enter to run it! */\n"
   ]
  },
  {
   "cell_type": "markdown",
   "metadata": {},
   "source": [
    "<div class=\"answer\">SELECT event_type, count(distinct timestamp) as instances \n",
    "    FROM events\n",
    "    GROUP BY event_type\n",
    "    ORDER BY instances desc;</div>"
   ]
  },
  {
   "cell_type": "markdown",
   "metadata": {},
   "source": [
    "---\n",
    "\n",
    "# VII. Pulling things together with `JOIN... ON` statements\n",
    "\n",
    "So far we've worked exclusively with one table for our examples. But of course the real power of a relational database comes from being able to connect, in our case, events with users. You can do this with a `JOIN... ON`:\n",
    "\n",
    "```sql\n",
    "SELECT users.name, events.event_type, events.timestamp \n",
    "    FROM users JOIN events \n",
    "        ON users.id = events.user\n",
    "```\n",
    "\n",
    "The `ON` portion here is key, because it tells the database _how_ the two tables are related. It's essentially creating a table like this', kind of like the giant table from the section on normalization, but only created when we need it:\n",
    "\n",
    "<table>\n",
    "    <tr><th>user.id</th><th>user.name</th><th>events.id</th><th>events.event_type</th><th>events.timestamp</th><th>events.user</th></tr>\n",
    "    <tr><td style='color:green'>2</td><td>bob</td><td>1</td><td>hooped the frood</td><td>2020-01-04 00:00:00</td><td style='color:green'>2</td></tr>\n",
    "    <tr><td style='color:red'>3</td><td>jane</td><td>2</td><td>walked the line</td><td>2020-01-02 00:00:00</td><td style='color:red'>3</td></tr>\n",
    "    <tr><td style='color:orange'>1</td><td>sally</td><td>3</td><td>gleamed the cube</td><td>2020-01-03 00:00:00</td><td style='color:orange'>1</td></tr>\n",
    "    <tr><td style='color:red'>3</td><td>jane</td><td>4</td><td>hooped the frood</td><td>2020-01-01 00:00:00</td><td style='color:red'>3</td></tr>\n",
    "    <tr><td colspan=4>...</td></tr>\n",
    "</table>\n",
    "\n",
    "Everything you've learned so far can be combined with `JOIN... ON`!"
   ]
  },
  {
   "cell_type": "code",
   "execution_count": 11,
   "metadata": {},
   "outputs": [
    {
     "name": "stdout",
     "output_type": "stream",
     "text": [
      " * sqlite://\n",
      "Done.\n"
     ]
    },
    {
     "data": {
      "text/html": [
       "<table>\n",
       "    <tr>\n",
       "        <th>name</th>\n",
       "        <th>num_events</th>\n",
       "    </tr>\n",
       "    <tr>\n",
       "        <td>sally</td>\n",
       "        <td>8</td>\n",
       "    </tr>\n",
       "</table>"
      ],
      "text/plain": [
       "[('sally', 8)]"
      ]
     },
     "execution_count": 11,
     "metadata": {},
     "output_type": "execute_result"
    }
   ],
   "source": [
    "%%sql\n",
    "\n",
    "/* \n",
    "\"Show me the user responsible for the most 'walked the line' and/or 'hooped the frood' events\"\n",
    "*/\n",
    "SELECT users.name, count(events.id) as num_events\n",
    "    FROM users JOIN events\n",
    "        ON users.id = events.user\n",
    "    WHERE events.event_type IN ('walked the line', 'hooped the frood')\n",
    "    ORDER BY num_events\n",
    "    LIMIT 1\n"
   ]
  },
  {
   "cell_type": "markdown",
   "metadata": {},
   "source": [
    "## `INNER` vs `OUTER JOIN`s\n",
    "\n",
    "Technically the join shown above is called an _inner join_ (you could actually write `INNER JOIN` instead of just `JOIN` if you wanted to be explicit).\n",
    "\n",
    "This is what you will want most of the time (hence it being the default), but are other joins, the most common being the _left outer join_. \n",
    "\n",
    "What's the difference? Well, with the data we currently have, probably nothing. Note that the following queries return the same result:"
   ]
  },
  {
   "cell_type": "code",
   "execution_count": 12,
   "metadata": {},
   "outputs": [
    {
     "name": "stdout",
     "output_type": "stream",
     "text": [
      " * sqlite://\n",
      "Done.\n"
     ]
    },
    {
     "data": {
      "text/html": [
       "<table>\n",
       "    <tr>\n",
       "        <th>name</th>\n",
       "        <th>event_type</th>\n",
       "        <th>timestamp</th>\n",
       "    </tr>\n",
       "    <tr>\n",
       "        <td>bianca</td>\n",
       "        <td>defragged the widget</td>\n",
       "        <td>2020-01-03</td>\n",
       "    </tr>\n",
       "    <tr>\n",
       "        <td>bianca</td>\n",
       "        <td>gleamed the cube</td>\n",
       "        <td>2020-01-04</td>\n",
       "    </tr>\n",
       "    <tr>\n",
       "        <td>asuka</td>\n",
       "        <td>gleamed the cube</td>\n",
       "        <td>2020-01-01</td>\n",
       "    </tr>\n",
       "    <tr>\n",
       "        <td>asuka</td>\n",
       "        <td>hooped the frood</td>\n",
       "        <td>2020-01-01</td>\n",
       "    </tr>\n",
       "    <tr>\n",
       "        <td>shayna</td>\n",
       "        <td>gleamed the cube</td>\n",
       "        <td>2020-01-03</td>\n",
       "    </tr>\n",
       "</table>"
      ],
      "text/plain": [
       "[('bianca', 'defragged the widget', '2020-01-03'),\n",
       " ('bianca', 'gleamed the cube', '2020-01-04'),\n",
       " ('asuka', 'gleamed the cube', '2020-01-01'),\n",
       " ('asuka', 'hooped the frood', '2020-01-01'),\n",
       " ('shayna', 'gleamed the cube', '2020-01-03')]"
      ]
     },
     "execution_count": 12,
     "metadata": {},
     "output_type": "execute_result"
    }
   ],
   "source": [
    "%%sql\n",
    "\n",
    "SELECT users.name, events.event_type, events.timestamp \n",
    "    FROM users INNER JOIN events \n",
    "        ON users.id = events.user\n",
    "    ORDER BY users.id desc\n",
    "    LIMIT 5;"
   ]
  },
  {
   "cell_type": "code",
   "execution_count": 13,
   "metadata": {},
   "outputs": [
    {
     "name": "stdout",
     "output_type": "stream",
     "text": [
      " * sqlite://\n",
      "Done.\n"
     ]
    },
    {
     "data": {
      "text/html": [
       "<table>\n",
       "    <tr>\n",
       "        <th>name</th>\n",
       "        <th>event_type</th>\n",
       "        <th>timestamp</th>\n",
       "    </tr>\n",
       "    <tr>\n",
       "        <td>bianca</td>\n",
       "        <td>defragged the widget</td>\n",
       "        <td>2020-01-03</td>\n",
       "    </tr>\n",
       "    <tr>\n",
       "        <td>bianca</td>\n",
       "        <td>gleamed the cube</td>\n",
       "        <td>2020-01-04</td>\n",
       "    </tr>\n",
       "    <tr>\n",
       "        <td>asuka</td>\n",
       "        <td>gleamed the cube</td>\n",
       "        <td>2020-01-01</td>\n",
       "    </tr>\n",
       "    <tr>\n",
       "        <td>asuka</td>\n",
       "        <td>hooped the frood</td>\n",
       "        <td>2020-01-01</td>\n",
       "    </tr>\n",
       "    <tr>\n",
       "        <td>shayna</td>\n",
       "        <td>defragged the widget</td>\n",
       "        <td>2020-01-03</td>\n",
       "    </tr>\n",
       "</table>"
      ],
      "text/plain": [
       "[('bianca', 'defragged the widget', '2020-01-03'),\n",
       " ('bianca', 'gleamed the cube', '2020-01-04'),\n",
       " ('asuka', 'gleamed the cube', '2020-01-01'),\n",
       " ('asuka', 'hooped the frood', '2020-01-01'),\n",
       " ('shayna', 'defragged the widget', '2020-01-03')]"
      ]
     },
     "execution_count": 13,
     "metadata": {},
     "output_type": "execute_result"
    }
   ],
   "source": [
    "%%sql\n",
    "\n",
    "/* # note the different JOIN type */\n",
    "SELECT users.name, events.event_type, events.timestamp \n",
    "    FROM users LEFT OUTER JOIN events \n",
    "        ON users.id = events.user\n",
    "    ORDER BY users.id desc\n",
    "    LIMIT 5;"
   ]
  },
  {
   "cell_type": "markdown",
   "metadata": {},
   "source": [
    "...but suppose we add a new user who isn't associated with any events?"
   ]
  },
  {
   "cell_type": "code",
   "execution_count": 14,
   "metadata": {},
   "outputs": [
    {
     "name": "stdout",
     "output_type": "stream",
     "text": [
      " * sqlite://\n",
      "1 rows affected.\n",
      "Done.\n"
     ]
    },
    {
     "data": {
      "text/html": [
       "<table>\n",
       "    <tr>\n",
       "        <th>id</th>\n",
       "        <th>name</th>\n",
       "    </tr>\n",
       "    <tr>\n",
       "        <td>10</td>\n",
       "        <td>neo</td>\n",
       "    </tr>\n",
       "</table>"
      ],
      "text/plain": [
       "[(10, 'neo')]"
      ]
     },
     "execution_count": 14,
     "metadata": {},
     "output_type": "execute_result"
    }
   ],
   "source": [
    "%%sql \n",
    "\n",
    "INSERT INTO users VALUES(null, 'neo');\n",
    "SELECT * \n",
    "    FROM users\n",
    "    ORDER BY id desc\n",
    "    LIMIT 1;"
   ]
  },
  {
   "cell_type": "markdown",
   "metadata": {},
   "source": [
    "Our inner join looks the same as before"
   ]
  },
  {
   "cell_type": "code",
   "execution_count": 15,
   "metadata": {},
   "outputs": [
    {
     "name": "stdout",
     "output_type": "stream",
     "text": [
      " * sqlite://\n",
      "Done.\n"
     ]
    },
    {
     "data": {
      "text/html": [
       "<table>\n",
       "    <tr>\n",
       "        <th>name</th>\n",
       "        <th>event_type</th>\n",
       "        <th>timestamp</th>\n",
       "    </tr>\n",
       "    <tr>\n",
       "        <td>bianca</td>\n",
       "        <td>defragged the widget</td>\n",
       "        <td>2020-01-03</td>\n",
       "    </tr>\n",
       "    <tr>\n",
       "        <td>bianca</td>\n",
       "        <td>gleamed the cube</td>\n",
       "        <td>2020-01-04</td>\n",
       "    </tr>\n",
       "    <tr>\n",
       "        <td>asuka</td>\n",
       "        <td>gleamed the cube</td>\n",
       "        <td>2020-01-01</td>\n",
       "    </tr>\n",
       "    <tr>\n",
       "        <td>asuka</td>\n",
       "        <td>hooped the frood</td>\n",
       "        <td>2020-01-01</td>\n",
       "    </tr>\n",
       "    <tr>\n",
       "        <td>shayna</td>\n",
       "        <td>gleamed the cube</td>\n",
       "        <td>2020-01-03</td>\n",
       "    </tr>\n",
       "</table>"
      ],
      "text/plain": [
       "[('bianca', 'defragged the widget', '2020-01-03'),\n",
       " ('bianca', 'gleamed the cube', '2020-01-04'),\n",
       " ('asuka', 'gleamed the cube', '2020-01-01'),\n",
       " ('asuka', 'hooped the frood', '2020-01-01'),\n",
       " ('shayna', 'gleamed the cube', '2020-01-03')]"
      ]
     },
     "execution_count": 15,
     "metadata": {},
     "output_type": "execute_result"
    }
   ],
   "source": [
    "%%sql\n",
    "\n",
    "SELECT users.name, events.event_type, events.timestamp \n",
    "    FROM users INNER JOIN events \n",
    "        ON users.id = events.user\n",
    "    ORDER BY users.id desc\n",
    "    LIMIT 5;"
   ]
  },
  {
   "cell_type": "markdown",
   "metadata": {},
   "source": [
    "...while the left outer join includes the new user"
   ]
  },
  {
   "cell_type": "code",
   "execution_count": 16,
   "metadata": {},
   "outputs": [
    {
     "name": "stdout",
     "output_type": "stream",
     "text": [
      " * sqlite://\n",
      "Done.\n"
     ]
    },
    {
     "data": {
      "text/html": [
       "<table>\n",
       "    <tr>\n",
       "        <th>name</th>\n",
       "        <th>event_type</th>\n",
       "        <th>timestamp</th>\n",
       "    </tr>\n",
       "    <tr>\n",
       "        <td>neo</td>\n",
       "        <td>None</td>\n",
       "        <td>None</td>\n",
       "    </tr>\n",
       "    <tr>\n",
       "        <td>bianca</td>\n",
       "        <td>defragged the widget</td>\n",
       "        <td>2020-01-03</td>\n",
       "    </tr>\n",
       "    <tr>\n",
       "        <td>bianca</td>\n",
       "        <td>gleamed the cube</td>\n",
       "        <td>2020-01-04</td>\n",
       "    </tr>\n",
       "    <tr>\n",
       "        <td>asuka</td>\n",
       "        <td>gleamed the cube</td>\n",
       "        <td>2020-01-01</td>\n",
       "    </tr>\n",
       "    <tr>\n",
       "        <td>asuka</td>\n",
       "        <td>hooped the frood</td>\n",
       "        <td>2020-01-01</td>\n",
       "    </tr>\n",
       "</table>"
      ],
      "text/plain": [
       "[('neo', None, None),\n",
       " ('bianca', 'defragged the widget', '2020-01-03'),\n",
       " ('bianca', 'gleamed the cube', '2020-01-04'),\n",
       " ('asuka', 'gleamed the cube', '2020-01-01'),\n",
       " ('asuka', 'hooped the frood', '2020-01-01')]"
      ]
     },
     "execution_count": 16,
     "metadata": {},
     "output_type": "execute_result"
    }
   ],
   "source": [
    "%%sql\n",
    "\n",
    "SELECT users.name, events.event_type, events.timestamp \n",
    "    FROM users LEFT OUTER JOIN events \n",
    "        ON users.id = events.user\n",
    "    ORDER BY users.id desc\n",
    "    LIMIT 5;"
   ]
  },
  {
   "cell_type": "markdown",
   "metadata": {},
   "source": [
    "## To sumarize, the difference between and _inner_ and _outer_ join...\n",
    "\n",
    "...lies in how rows that _don't_ match the `ON` criteria are treated. An _inner_ join ignores such records, while a _left outer_ join includes them.\n",
    "\n",
    "Neo's user ID is not referenced in `events.user`, so he is ignored by the outer join, but included in the left outer join. \n",
    "\n",
    "Again, the former behavior is usually what you want, but if you needed to, say, list all users and the number of events associated with them _even if that number is zero_, a _left outer_ join like this would save your day:"
   ]
  },
  {
   "cell_type": "code",
   "execution_count": 17,
   "metadata": {},
   "outputs": [
    {
     "name": "stdout",
     "output_type": "stream",
     "text": [
      " * sqlite://\n",
      "Done.\n"
     ]
    },
    {
     "data": {
      "text/html": [
       "<table>\n",
       "    <tr>\n",
       "        <th>name</th>\n",
       "        <th>num_events</th>\n",
       "    </tr>\n",
       "    <tr>\n",
       "        <td>neo</td>\n",
       "        <td>0</td>\n",
       "    </tr>\n",
       "    <tr>\n",
       "        <td>sally</td>\n",
       "        <td>2</td>\n",
       "    </tr>\n",
       "    <tr>\n",
       "        <td>bob</td>\n",
       "        <td>2</td>\n",
       "    </tr>\n",
       "</table>"
      ],
      "text/plain": [
       "[('neo', 0), ('sally', 2), ('bob', 2)]"
      ]
     },
     "execution_count": 17,
     "metadata": {},
     "output_type": "execute_result"
    }
   ],
   "source": [
    "%%sql\n",
    "\n",
    "/* # Try removing `LEFT OUTER` and see how the results change */\n",
    "SELECT users.name, count(events.id) as num_events\n",
    "    FROM users LEFT OUTER JOIN events\n",
    "        ON users.id = events.user\n",
    "    GROUP BY events.user\n",
    "    ORDER BY num_events\n",
    "    LIMIT 3\n",
    "    "
   ]
  },
  {
   "cell_type": "markdown",
   "metadata": {},
   "source": [
    "## Optional further reading\n",
    "\n",
    "You can see more examples of inner joins, left outer joins, and more [here](https://www.w3schools.com/sql/sql_join.asp)"
   ]
  },
  {
   "cell_type": "markdown",
   "metadata": {},
   "source": [
    "---\n",
    "\n",
    "# VIII. Applying what you've learned\n",
    "\n",
    "Let's look back at those original use cases:\n",
    "\n",
    "- _Given a table of event logs associated with users, I need to see events triggered by a specific set of users_\n",
    "- _Given a table of event logs associated with users, I need the set of users assocaited with a specific event recorded during a given period of time_\n",
    "\n",
    "\n",
    "## Try it yourself!\n",
    "You now have all the tools you need to solve the first problem. Try it in the cell below. As a hint, key components of your query will include: `JOIN`, and `IN`."
   ]
  },
  {
   "cell_type": "code",
   "execution_count": null,
   "metadata": {},
   "outputs": [],
   "source": [
    "%%sql\n",
    "\n",
    "/* \"Show me events triggered by Sally and Bob only\" */\n",
    "/* Write your query below, then press Ctrl+Enter to run it! */\n",
    "\n"
   ]
  },
  {
   "cell_type": "markdown",
   "metadata": {},
   "source": [
    "<div class=\"answer\">SELECT events.timestamp, events.event_type, users.name\n",
    "    FROM events JOIN users\n",
    "        ON events.user = users.id\n",
    "    WHERE users.name IN ('sally', 'bob');</div>"
   ]
  },
  {
   "cell_type": "markdown",
   "metadata": {},
   "source": [
    "The second use case is trickier because it requires checking whether an event occurred within a given date range. \n",
    "\n",
    "The exact way you handle date comparisons like this will vary depending on the database you are using. In SQLite you can make things a bit easier by converting dates to numbers (seconds since midnight UTC on 1st Jan 1970, aka [\"unix time\"](https://sqlite.org/lang_datefunc.html)), which you can then compare using `>`, `<`, etc. This conversion is done with the `strftime` function, documented along with other date/time-related functions [here](https://sqlite.org/lang_datefunc.html).\n",
    "\n",
    "For example, here's how you could use it to select all event records on or after `2020-01-03 00:00:00`:"
   ]
  },
  {
   "cell_type": "code",
   "execution_count": 19,
   "metadata": {},
   "outputs": [
    {
     "name": "stdout",
     "output_type": "stream",
     "text": [
      " * sqlite://\n",
      "Done.\n"
     ]
    },
    {
     "data": {
      "text/html": [
       "<table>\n",
       "    <tr>\n",
       "        <th>id</th>\n",
       "        <th>event_type</th>\n",
       "        <th>timestamp</th>\n",
       "        <th>user</th>\n",
       "    </tr>\n",
       "    <tr>\n",
       "        <td>1</td>\n",
       "        <td>defragged the widget</td>\n",
       "        <td>2020-01-03</td>\n",
       "        <td>1</td>\n",
       "    </tr>\n",
       "    <tr>\n",
       "        <td>10</td>\n",
       "        <td>defragged the widget</td>\n",
       "        <td>2020-01-03</td>\n",
       "        <td>5</td>\n",
       "    </tr>\n",
       "    <tr>\n",
       "        <td>12</td>\n",
       "        <td>hooped the frood</td>\n",
       "        <td>2020-01-03</td>\n",
       "        <td>6</td>\n",
       "    </tr>\n",
       "    <tr>\n",
       "        <td>13</td>\n",
       "        <td>gleamed the cube</td>\n",
       "        <td>2020-01-03</td>\n",
       "        <td>7</td>\n",
       "    </tr>\n",
       "    <tr>\n",
       "        <td>14</td>\n",
       "        <td>defragged the widget</td>\n",
       "        <td>2020-01-03</td>\n",
       "        <td>7</td>\n",
       "    </tr>\n",
       "    <tr>\n",
       "        <td>17</td>\n",
       "        <td>defragged the widget</td>\n",
       "        <td>2020-01-03</td>\n",
       "        <td>9</td>\n",
       "    </tr>\n",
       "    <tr>\n",
       "        <td>4</td>\n",
       "        <td>walked the line</td>\n",
       "        <td>2020-01-04</td>\n",
       "        <td>2</td>\n",
       "    </tr>\n",
       "    <tr>\n",
       "        <td>7</td>\n",
       "        <td>hooped the frood</td>\n",
       "        <td>2020-01-04</td>\n",
       "        <td>4</td>\n",
       "    </tr>\n",
       "    <tr>\n",
       "        <td>18</td>\n",
       "        <td>gleamed the cube</td>\n",
       "        <td>2020-01-04</td>\n",
       "        <td>9</td>\n",
       "    </tr>\n",
       "</table>"
      ],
      "text/plain": [
       "[(1, 'defragged the widget', '2020-01-03', 1),\n",
       " (10, 'defragged the widget', '2020-01-03', 5),\n",
       " (12, 'hooped the frood', '2020-01-03', 6),\n",
       " (13, 'gleamed the cube', '2020-01-03', 7),\n",
       " (14, 'defragged the widget', '2020-01-03', 7),\n",
       " (17, 'defragged the widget', '2020-01-03', 9),\n",
       " (4, 'walked the line', '2020-01-04', 2),\n",
       " (7, 'hooped the frood', '2020-01-04', 4),\n",
       " (18, 'gleamed the cube', '2020-01-04', 9)]"
      ]
     },
     "execution_count": 19,
     "metadata": {},
     "output_type": "execute_result"
    }
   ],
   "source": [
    "%%sql\n",
    "\n",
    "SELECT * from events\n",
    "    WHERE strftime('%s', events.timestamp) >= strftime('%s', '2020-01-03 00:00:00')\n",
    "    ORDER BY events.timestamp;   "
   ]
  },
  {
   "cell_type": "markdown",
   "metadata": {},
   "source": [
    "Given this knowledge, now have a go at writing a query to address the second use case."
   ]
  },
  {
   "cell_type": "code",
   "execution_count": 56,
   "metadata": {},
   "outputs": [
    {
     "name": "stdout",
     "output_type": "stream",
     "text": [
      " * sqlite://\n",
      "Done.\n"
     ]
    },
    {
     "data": {
      "text/html": [
       "<table>\n",
       "    <tr>\n",
       "        <th>name</th>\n",
       "        <th>timestamp</th>\n",
       "    </tr>\n",
       "    <tr>\n",
       "        <td>bob</td>\n",
       "        <td>2020-01-02</td>\n",
       "    </tr>\n",
       "    <tr>\n",
       "        <td>jane</td>\n",
       "        <td>2020-01-02</td>\n",
       "    </tr>\n",
       "    <tr>\n",
       "        <td>shayna</td>\n",
       "        <td>2020-01-03</td>\n",
       "    </tr>\n",
       "    <tr>\n",
       "        <td>asuka</td>\n",
       "        <td>2020-01-01</td>\n",
       "    </tr>\n",
       "</table>"
      ],
      "text/plain": [
       "[('bob', '2020-01-02'),\n",
       " ('jane', '2020-01-02'),\n",
       " ('shayna', '2020-01-03'),\n",
       " ('asuka', '2020-01-01')]"
      ]
     },
     "execution_count": 56,
     "metadata": {},
     "output_type": "execute_result"
    }
   ],
   "source": [
    "%%sql\n",
    "\n",
    "/* \"Show me users and timestamps for `gleamed the cube` events between January 1st and 3rd (inclusive) */\n",
    "SELECT users.name, events.timestamp FROM \n",
    "    users JOIN events ON users.id = events.user\n",
    "    WHERE strftime('%s', events.timestamp) >= strftime('%s', '2020-01-01 00:00:00')\n",
    "        AND strftime('%s', events.timestamp) <= strftime('%s', '2020-01-03 00:00:00')\n",
    "        AND event_type = 'gleamed the cube'"
   ]
  },
  {
   "cell_type": "markdown",
   "metadata": {},
   "source": [
    "<div class=\"answer\">SELECT users.name, events.timestamp FROM \n",
    "    users JOIN events ON users.id = events.user\n",
    "    WHERE strftime('%s', events.timestamp) >= strftime('%s', '2020-01-01 00:00:00')\n",
    "        AND strftime('%s', events.timestamp) <= strftime('%s', '2020-01-03 00:00:00')\n",
    "        AND event_type = 'gleamed the cube'</div>"
   ]
  },
  {
   "cell_type": "markdown",
   "metadata": {},
   "source": [
    "### Bonus challenge 1\n",
    "\n",
    "Modify the query above to include not just who gleamed the cube during the given date range, but how many times they did, and sort the results by that number."
   ]
  },
  {
   "cell_type": "code",
   "execution_count": null,
   "metadata": {},
   "outputs": [],
   "source": [
    "%%sql\n",
    "\n",
    "/* \"Show me users and instance counts for `gleamed the cube` events between January 1st and 3rd (inclusive) */\n",
    "/* Write your query below, then press Ctrl+Enter to run it! */\n",
    "\n"
   ]
  },
  {
   "cell_type": "markdown",
   "metadata": {},
   "source": [
    "<div class=\"answer\">SELECT users.name, count(events.id) as 'cubes gleamed' FROM \n",
    "    users JOIN events ON users.id = events.user\n",
    "    WHERE strftime('%s', events.timestamp) >= strftime('%s', '2020-01-01 00:00:00')\n",
    "        AND strftime('%s', events.timestamp) <= strftime('%s', '2020-01-03 00:00:00')\n",
    "        AND event_type = 'gleamed the cube'\n",
    "    GROUP BY events.user\n",
    "    ORDER BY 'cubes gleamed'; </div>"
   ]
  },
  {
   "cell_type": "markdown",
   "metadata": {},
   "source": [
    "### Bonus challenge 2\n",
    "\n",
    "Rewrite the query again, this time so it has three columns: name, date, and the number of logged events for that user _on that date_, still limited to `gleamed the cube` events between 1 Jan and 3 Jan, e.g.\n",
    "\n",
    "| name   |\tdate       |\tcubes gleamed |\n",
    "| ---    | ---         | ---\n",
    "| shayna |\t2020-01-01 |\t2 |\n",
    "| asuka  |\t2020-01-01 |\t1 |\n",
    "| bob \t |  2020-01-02 |\t1 |\n",
    "| jane \t |  2020-01-02 |\t1 |\n",
    "| shayna |\t2020-01-03 |\t1 |\n",
    "\n",
    "This one is intended to be a real challenge, so some hints are in order:\n",
    "1. What you `GROUP` on here is key\n",
    "2. You can `GROUP` on multiple columns (comma-separated, order matters!!)\n",
    "3. Even though our example `timestamp` values all happen to be at midnight, you could have records at multiple times on the same day, so the best solution will use `strftime` ([docs](https://sqlite.org/lang_datefunc.html)) to extract just the YYYY-MM-DD of the timestamp and group on that"
   ]
  },
  {
   "cell_type": "code",
   "execution_count": null,
   "metadata": {},
   "outputs": [],
   "source": [
    "%%sql\n",
    "\n",
    "/* \"Show me users, dates, and per-day instance counts for `gleamed the cube` events between January 1st and 3rd (inclusive) */\n",
    "/* Write your query below, then press Ctrl+Enter to run it! */\n",
    "\n"
   ]
  },
  {
   "cell_type": "markdown",
   "metadata": {},
   "source": [
    "<div class=\"answer\">SELECT users.name, strftime('%Y-%m-%d', events.timestamp) as date, count(events.id) as 'cubes gleamed' FROM \n",
    "    users JOIN events ON users.id = events.user\n",
    "    WHERE strftime('%s', events.timestamp) &gt;= strftime('%s', '2020-01-01 00:00:00')\n",
    "        AND strftime('%s', events.timestamp) &lt;= strftime('%s', '2020-01-03 00:00:00')\n",
    "        AND event_type = 'gleamed the cube'\n",
    "    GROUP BY date, events.user\n",
    "    ORDER BY date, 'cubes gleamed';</div>"
   ]
  },
  {
   "cell_type": "markdown",
   "metadata": {},
   "source": [
    "# Optional further reading\n",
    "\n",
    "For more SQL nuts and bolts, see the w3schools.com [SQL reference](https://www.w3schools.com/sql/default.asp).\n",
    "\n",
    "For a simple refresher when needed, cheat sheets like [this one](https://www.sqltutorial.org/sql-cheat-sheet/) abound online.\n"
   ]
  }
 ],
 "metadata": {
  "kernelspec": {
   "display_name": "Python 3",
   "language": "python",
   "name": "python3"
  },
  "language_info": {
   "codemirror_mode": {
    "name": "ipython",
    "version": 3
   },
   "file_extension": ".py",
   "mimetype": "text/x-python",
   "name": "python",
   "nbconvert_exporter": "python",
   "pygments_lexer": "ipython3",
   "version": "3.7.7"
  }
 },
 "nbformat": 4,
 "nbformat_minor": 4
}
